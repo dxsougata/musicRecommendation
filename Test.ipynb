{
 "cells": [
  {
   "cell_type": "code",
   "execution_count": 1,
   "id": "1d0f575a-cfd6-4dad-89af-b7fd7514066e",
   "metadata": {},
   "outputs": [],
   "source": [
    "import pandas as pd"
   ]
  },
  {
   "cell_type": "code",
   "execution_count": 2,
   "id": "3674882d-09fe-4dab-a581-e6152bfcb2d5",
   "metadata": {},
   "outputs": [],
   "source": [
    "df = pd.read_csv(\"spotify_millsongdata.csv\")"
   ]
  },
  {
   "cell_type": "code",
   "execution_count": 3,
   "id": "f53faa6a-30e7-4360-b187-95b224f8a70d",
   "metadata": {},
   "outputs": [
    {
     "data": {
      "text/html": [
       "<div>\n",
       "<style scoped>\n",
       "    .dataframe tbody tr th:only-of-type {\n",
       "        vertical-align: middle;\n",
       "    }\n",
       "\n",
       "    .dataframe tbody tr th {\n",
       "        vertical-align: top;\n",
       "    }\n",
       "\n",
       "    .dataframe thead th {\n",
       "        text-align: right;\n",
       "    }\n",
       "</style>\n",
       "<table border=\"1\" class=\"dataframe\">\n",
       "  <thead>\n",
       "    <tr style=\"text-align: right;\">\n",
       "      <th></th>\n",
       "      <th>artist</th>\n",
       "      <th>song</th>\n",
       "      <th>link</th>\n",
       "      <th>text</th>\n",
       "    </tr>\n",
       "  </thead>\n",
       "  <tbody>\n",
       "    <tr>\n",
       "      <th>0</th>\n",
       "      <td>ABBA</td>\n",
       "      <td>Ahe's My Kind Of Girl</td>\n",
       "      <td>/a/abba/ahes+my+kind+of+girl_20598417.html</td>\n",
       "      <td>Look at her face, it's a wonderful face  \\r\\nA...</td>\n",
       "    </tr>\n",
       "    <tr>\n",
       "      <th>1</th>\n",
       "      <td>ABBA</td>\n",
       "      <td>Andante, Andante</td>\n",
       "      <td>/a/abba/andante+andante_20002708.html</td>\n",
       "      <td>Take it easy with me, please  \\r\\nTouch me gen...</td>\n",
       "    </tr>\n",
       "    <tr>\n",
       "      <th>2</th>\n",
       "      <td>ABBA</td>\n",
       "      <td>As Good As New</td>\n",
       "      <td>/a/abba/as+good+as+new_20003033.html</td>\n",
       "      <td>I'll never know why I had to go  \\r\\nWhy I had...</td>\n",
       "    </tr>\n",
       "    <tr>\n",
       "      <th>3</th>\n",
       "      <td>ABBA</td>\n",
       "      <td>Bang</td>\n",
       "      <td>/a/abba/bang_20598415.html</td>\n",
       "      <td>Making somebody happy is a question of give an...</td>\n",
       "    </tr>\n",
       "    <tr>\n",
       "      <th>4</th>\n",
       "      <td>ABBA</td>\n",
       "      <td>Bang-A-Boomerang</td>\n",
       "      <td>/a/abba/bang+a+boomerang_20002668.html</td>\n",
       "      <td>Making somebody happy is a question of give an...</td>\n",
       "    </tr>\n",
       "    <tr>\n",
       "      <th>5</th>\n",
       "      <td>ABBA</td>\n",
       "      <td>Burning My Bridges</td>\n",
       "      <td>/a/abba/burning+my+bridges_20003011.html</td>\n",
       "      <td>Well, you hoot and you holler and you make me ...</td>\n",
       "    </tr>\n",
       "    <tr>\n",
       "      <th>6</th>\n",
       "      <td>ABBA</td>\n",
       "      <td>Cassandra</td>\n",
       "      <td>/a/abba/cassandra_20002811.html</td>\n",
       "      <td>Down in the street they're all singing and sho...</td>\n",
       "    </tr>\n",
       "    <tr>\n",
       "      <th>7</th>\n",
       "      <td>ABBA</td>\n",
       "      <td>Chiquitita</td>\n",
       "      <td>/a/abba/chiquitita_20002978.html</td>\n",
       "      <td>Chiquitita, tell me what's wrong  \\r\\nYou're e...</td>\n",
       "    </tr>\n",
       "    <tr>\n",
       "      <th>8</th>\n",
       "      <td>ABBA</td>\n",
       "      <td>Crazy World</td>\n",
       "      <td>/a/abba/crazy+world_20003013.html</td>\n",
       "      <td>I was out with the morning sun  \\r\\nCouldn't s...</td>\n",
       "    </tr>\n",
       "    <tr>\n",
       "      <th>9</th>\n",
       "      <td>ABBA</td>\n",
       "      <td>Crying Over You</td>\n",
       "      <td>/a/abba/crying+over+you_20177611.html</td>\n",
       "      <td>I'm waitin' for you baby  \\r\\nI'm sitting all ...</td>\n",
       "    </tr>\n",
       "  </tbody>\n",
       "</table>\n",
       "</div>"
      ],
      "text/plain": [
       "  artist                   song                                        link  \\\n",
       "0   ABBA  Ahe's My Kind Of Girl  /a/abba/ahes+my+kind+of+girl_20598417.html   \n",
       "1   ABBA       Andante, Andante       /a/abba/andante+andante_20002708.html   \n",
       "2   ABBA         As Good As New        /a/abba/as+good+as+new_20003033.html   \n",
       "3   ABBA                   Bang                  /a/abba/bang_20598415.html   \n",
       "4   ABBA       Bang-A-Boomerang      /a/abba/bang+a+boomerang_20002668.html   \n",
       "5   ABBA     Burning My Bridges    /a/abba/burning+my+bridges_20003011.html   \n",
       "6   ABBA              Cassandra             /a/abba/cassandra_20002811.html   \n",
       "7   ABBA             Chiquitita            /a/abba/chiquitita_20002978.html   \n",
       "8   ABBA            Crazy World           /a/abba/crazy+world_20003013.html   \n",
       "9   ABBA        Crying Over You       /a/abba/crying+over+you_20177611.html   \n",
       "\n",
       "                                                text  \n",
       "0  Look at her face, it's a wonderful face  \\r\\nA...  \n",
       "1  Take it easy with me, please  \\r\\nTouch me gen...  \n",
       "2  I'll never know why I had to go  \\r\\nWhy I had...  \n",
       "3  Making somebody happy is a question of give an...  \n",
       "4  Making somebody happy is a question of give an...  \n",
       "5  Well, you hoot and you holler and you make me ...  \n",
       "6  Down in the street they're all singing and sho...  \n",
       "7  Chiquitita, tell me what's wrong  \\r\\nYou're e...  \n",
       "8  I was out with the morning sun  \\r\\nCouldn't s...  \n",
       "9  I'm waitin' for you baby  \\r\\nI'm sitting all ...  "
      ]
     },
     "execution_count": 3,
     "metadata": {},
     "output_type": "execute_result"
    }
   ],
   "source": [
    "df.head(10)"
   ]
  },
  {
   "cell_type": "code",
   "execution_count": 4,
   "id": "2a1ab2f6-b88e-4ba2-b6bd-750fdb08f33e",
   "metadata": {},
   "outputs": [],
   "source": [
    "df=df.drop('link',axis=1)"
   ]
  },
  {
   "cell_type": "code",
   "execution_count": 5,
   "id": "b476b111-3734-4cf5-98ac-30ce8fdcce66",
   "metadata": {},
   "outputs": [],
   "source": [
    "df = df[0:5000]"
   ]
  },
  {
   "cell_type": "code",
   "execution_count": 6,
   "id": "b6dfaf64-e589-47e6-aa8c-e42dac95b2cc",
   "metadata": {},
   "outputs": [
    {
     "data": {
      "text/html": [
       "<div>\n",
       "<style scoped>\n",
       "    .dataframe tbody tr th:only-of-type {\n",
       "        vertical-align: middle;\n",
       "    }\n",
       "\n",
       "    .dataframe tbody tr th {\n",
       "        vertical-align: top;\n",
       "    }\n",
       "\n",
       "    .dataframe thead th {\n",
       "        text-align: right;\n",
       "    }\n",
       "</style>\n",
       "<table border=\"1\" class=\"dataframe\">\n",
       "  <thead>\n",
       "    <tr style=\"text-align: right;\">\n",
       "      <th></th>\n",
       "      <th>artist</th>\n",
       "      <th>song</th>\n",
       "      <th>text</th>\n",
       "    </tr>\n",
       "  </thead>\n",
       "  <tbody>\n",
       "    <tr>\n",
       "      <th>4995</th>\n",
       "      <td>Elvis Costello</td>\n",
       "      <td>Love For Tender</td>\n",
       "      <td>You won't take my love for tender  \\r\\nYou can...</td>\n",
       "    </tr>\n",
       "    <tr>\n",
       "      <th>4996</th>\n",
       "      <td>Elvis Costello</td>\n",
       "      <td>Love Went Mad</td>\n",
       "      <td>I've looked at it every way I can  \\r\\nFrom un...</td>\n",
       "    </tr>\n",
       "    <tr>\n",
       "      <th>4997</th>\n",
       "      <td>Elvis Costello</td>\n",
       "      <td>Lover's Walk</td>\n",
       "      <td>I won't walk with my head bowed  \\r\\n(Be on) B...</td>\n",
       "    </tr>\n",
       "    <tr>\n",
       "      <th>4998</th>\n",
       "      <td>Elvis Costello</td>\n",
       "      <td>Luxembourg</td>\n",
       "      <td>Dressed up like a dog's dinner  \\r\\nButter wou...</td>\n",
       "    </tr>\n",
       "    <tr>\n",
       "      <th>4999</th>\n",
       "      <td>Elvis Costello</td>\n",
       "      <td>Men Called Uncle</td>\n",
       "      <td>Now there's newsprint all over your face  \\r\\n...</td>\n",
       "    </tr>\n",
       "  </tbody>\n",
       "</table>\n",
       "</div>"
      ],
      "text/plain": [
       "              artist              song  \\\n",
       "4995  Elvis Costello   Love For Tender   \n",
       "4996  Elvis Costello     Love Went Mad   \n",
       "4997  Elvis Costello      Lover's Walk   \n",
       "4998  Elvis Costello        Luxembourg   \n",
       "4999  Elvis Costello  Men Called Uncle   \n",
       "\n",
       "                                                   text  \n",
       "4995  You won't take my love for tender  \\r\\nYou can...  \n",
       "4996  I've looked at it every way I can  \\r\\nFrom un...  \n",
       "4997  I won't walk with my head bowed  \\r\\n(Be on) B...  \n",
       "4998  Dressed up like a dog's dinner  \\r\\nButter wou...  \n",
       "4999  Now there's newsprint all over your face  \\r\\n...  "
      ]
     },
     "execution_count": 6,
     "metadata": {},
     "output_type": "execute_result"
    }
   ],
   "source": [
    "df.tail()"
   ]
  },
  {
   "cell_type": "code",
   "execution_count": 7,
   "id": "4242cbe4-6662-4f7a-8f0b-a53428fc8127",
   "metadata": {},
   "outputs": [
    {
     "data": {
      "text/html": [
       "<div>\n",
       "<style scoped>\n",
       "    .dataframe tbody tr th:only-of-type {\n",
       "        vertical-align: middle;\n",
       "    }\n",
       "\n",
       "    .dataframe tbody tr th {\n",
       "        vertical-align: top;\n",
       "    }\n",
       "\n",
       "    .dataframe thead th {\n",
       "        text-align: right;\n",
       "    }\n",
       "</style>\n",
       "<table border=\"1\" class=\"dataframe\">\n",
       "  <thead>\n",
       "    <tr style=\"text-align: right;\">\n",
       "      <th></th>\n",
       "      <th>artist</th>\n",
       "      <th>song</th>\n",
       "      <th>text</th>\n",
       "    </tr>\n",
       "  </thead>\n",
       "  <tbody>\n",
       "    <tr>\n",
       "      <th>0</th>\n",
       "      <td>ABBA</td>\n",
       "      <td>Ahe's My Kind Of Girl</td>\n",
       "      <td>Look at her face, it's a wonderful face  \\r\\nA...</td>\n",
       "    </tr>\n",
       "    <tr>\n",
       "      <th>1</th>\n",
       "      <td>ABBA</td>\n",
       "      <td>Andante, Andante</td>\n",
       "      <td>Take it easy with me, please  \\r\\nTouch me gen...</td>\n",
       "    </tr>\n",
       "    <tr>\n",
       "      <th>2</th>\n",
       "      <td>ABBA</td>\n",
       "      <td>As Good As New</td>\n",
       "      <td>I'll never know why I had to go  \\r\\nWhy I had...</td>\n",
       "    </tr>\n",
       "    <tr>\n",
       "      <th>3</th>\n",
       "      <td>ABBA</td>\n",
       "      <td>Bang</td>\n",
       "      <td>Making somebody happy is a question of give an...</td>\n",
       "    </tr>\n",
       "    <tr>\n",
       "      <th>4</th>\n",
       "      <td>ABBA</td>\n",
       "      <td>Bang-A-Boomerang</td>\n",
       "      <td>Making somebody happy is a question of give an...</td>\n",
       "    </tr>\n",
       "  </tbody>\n",
       "</table>\n",
       "</div>"
      ],
      "text/plain": [
       "  artist                   song  \\\n",
       "0   ABBA  Ahe's My Kind Of Girl   \n",
       "1   ABBA       Andante, Andante   \n",
       "2   ABBA         As Good As New   \n",
       "3   ABBA                   Bang   \n",
       "4   ABBA       Bang-A-Boomerang   \n",
       "\n",
       "                                                text  \n",
       "0  Look at her face, it's a wonderful face  \\r\\nA...  \n",
       "1  Take it easy with me, please  \\r\\nTouch me gen...  \n",
       "2  I'll never know why I had to go  \\r\\nWhy I had...  \n",
       "3  Making somebody happy is a question of give an...  \n",
       "4  Making somebody happy is a question of give an...  "
      ]
     },
     "execution_count": 7,
     "metadata": {},
     "output_type": "execute_result"
    }
   ],
   "source": [
    "df.head()"
   ]
  },
  {
   "cell_type": "code",
   "execution_count": 8,
   "id": "d71e1717-798f-430a-b1c1-bf88570c40b4",
   "metadata": {},
   "outputs": [
    {
     "data": {
      "text/plain": [
       "\"Look at her face, it's a wonderful face  \\r\\nAnd it means something special to me  \\r\\nLook at the way that she smiles when she sees me  \\r\\nHow lucky can one fellow be?  \\r\\n  \\r\\nShe's just my kind of girl, she makes me feel fine  \\r\\nWho could ever believe that she could be mine?  \\r\\nShe's just my kind of girl, without her I'm blue  \\r\\nAnd if she ever leaves me what could I do, what could I do?  \\r\\n  \\r\\nAnd when we go for a walk in the park  \\r\\nAnd she holds me and squeezes my hand  \\r\\nWe'll go on walking for hours and talking  \\r\\nAbout all the things that we plan  \\r\\n  \\r\\nShe's just my kind of girl, she makes me feel fine  \\r\\nWho could ever believe that she could be mine?  \\r\\nShe's just my kind of girl, without her I'm blue  \\r\\nAnd if she ever leaves me what could I do, what could I do?\\r\\n\\r\\n\""
      ]
     },
     "execution_count": 8,
     "metadata": {},
     "output_type": "execute_result"
    }
   ],
   "source": [
    "df['text'][0]"
   ]
  },
  {
   "cell_type": "code",
   "execution_count": 9,
   "id": "541c983e-eeb0-4354-a74d-b8853bf50dae",
   "metadata": {},
   "outputs": [
    {
     "data": {
      "text/html": [
       "<div>\n",
       "<style scoped>\n",
       "    .dataframe tbody tr th:only-of-type {\n",
       "        vertical-align: middle;\n",
       "    }\n",
       "\n",
       "    .dataframe tbody tr th {\n",
       "        vertical-align: top;\n",
       "    }\n",
       "\n",
       "    .dataframe thead th {\n",
       "        text-align: right;\n",
       "    }\n",
       "</style>\n",
       "<table border=\"1\" class=\"dataframe\">\n",
       "  <thead>\n",
       "    <tr style=\"text-align: right;\">\n",
       "      <th></th>\n",
       "      <th>artist</th>\n",
       "      <th>song</th>\n",
       "      <th>text</th>\n",
       "    </tr>\n",
       "  </thead>\n",
       "  <tbody>\n",
       "    <tr>\n",
       "      <th>0</th>\n",
       "      <td>ABBA</td>\n",
       "      <td>Ahe's My Kind Of Girl</td>\n",
       "      <td>look at her face, it's a wonderful face  \\r\\na...</td>\n",
       "    </tr>\n",
       "    <tr>\n",
       "      <th>1</th>\n",
       "      <td>ABBA</td>\n",
       "      <td>Andante, Andante</td>\n",
       "      <td>take it easy with me, please  \\r\\ntouch me gen...</td>\n",
       "    </tr>\n",
       "    <tr>\n",
       "      <th>2</th>\n",
       "      <td>ABBA</td>\n",
       "      <td>As Good As New</td>\n",
       "      <td>i'll never know why i had to go  \\r\\nwhy i had...</td>\n",
       "    </tr>\n",
       "    <tr>\n",
       "      <th>3</th>\n",
       "      <td>ABBA</td>\n",
       "      <td>Bang</td>\n",
       "      <td>making somebody happy is a question of give an...</td>\n",
       "    </tr>\n",
       "    <tr>\n",
       "      <th>4</th>\n",
       "      <td>ABBA</td>\n",
       "      <td>Bang-A-Boomerang</td>\n",
       "      <td>making somebody happy is a question of give an...</td>\n",
       "    </tr>\n",
       "    <tr>\n",
       "      <th>...</th>\n",
       "      <td>...</td>\n",
       "      <td>...</td>\n",
       "      <td>...</td>\n",
       "    </tr>\n",
       "    <tr>\n",
       "      <th>4995</th>\n",
       "      <td>Elvis Costello</td>\n",
       "      <td>Love For Tender</td>\n",
       "      <td>you won't take my love for tender  \\r\\nyou can...</td>\n",
       "    </tr>\n",
       "    <tr>\n",
       "      <th>4996</th>\n",
       "      <td>Elvis Costello</td>\n",
       "      <td>Love Went Mad</td>\n",
       "      <td>i've looked at it every way i can  \\r\\nfrom un...</td>\n",
       "    </tr>\n",
       "    <tr>\n",
       "      <th>4997</th>\n",
       "      <td>Elvis Costello</td>\n",
       "      <td>Lover's Walk</td>\n",
       "      <td>i won't walk with my head bowed  \\r\\n(be on) b...</td>\n",
       "    </tr>\n",
       "    <tr>\n",
       "      <th>4998</th>\n",
       "      <td>Elvis Costello</td>\n",
       "      <td>Luxembourg</td>\n",
       "      <td>dressed up like a dog's dinner  \\r\\nbutter wou...</td>\n",
       "    </tr>\n",
       "    <tr>\n",
       "      <th>4999</th>\n",
       "      <td>Elvis Costello</td>\n",
       "      <td>Men Called Uncle</td>\n",
       "      <td>now there's newsprint all over your face  \\r\\n...</td>\n",
       "    </tr>\n",
       "  </tbody>\n",
       "</table>\n",
       "<p>5000 rows × 3 columns</p>\n",
       "</div>"
      ],
      "text/plain": [
       "              artist                   song  \\\n",
       "0               ABBA  Ahe's My Kind Of Girl   \n",
       "1               ABBA       Andante, Andante   \n",
       "2               ABBA         As Good As New   \n",
       "3               ABBA                   Bang   \n",
       "4               ABBA       Bang-A-Boomerang   \n",
       "...              ...                    ...   \n",
       "4995  Elvis Costello        Love For Tender   \n",
       "4996  Elvis Costello          Love Went Mad   \n",
       "4997  Elvis Costello           Lover's Walk   \n",
       "4998  Elvis Costello             Luxembourg   \n",
       "4999  Elvis Costello       Men Called Uncle   \n",
       "\n",
       "                                                   text  \n",
       "0     look at her face, it's a wonderful face  \\r\\na...  \n",
       "1     take it easy with me, please  \\r\\ntouch me gen...  \n",
       "2     i'll never know why i had to go  \\r\\nwhy i had...  \n",
       "3     making somebody happy is a question of give an...  \n",
       "4     making somebody happy is a question of give an...  \n",
       "...                                                 ...  \n",
       "4995  you won't take my love for tender  \\r\\nyou can...  \n",
       "4996  i've looked at it every way i can  \\r\\nfrom un...  \n",
       "4997  i won't walk with my head bowed  \\r\\n(be on) b...  \n",
       "4998  dressed up like a dog's dinner  \\r\\nbutter wou...  \n",
       "4999  now there's newsprint all over your face  \\r\\n...  \n",
       "\n",
       "[5000 rows x 3 columns]"
      ]
     },
     "execution_count": 9,
     "metadata": {},
     "output_type": "execute_result"
    }
   ],
   "source": [
    "df['text'] = df['text'].str.lower()\n",
    "df\n"
   ]
  },
  {
   "cell_type": "code",
   "execution_count": 10,
   "id": "384edfa8-f614-47d4-9bd7-855168891439",
   "metadata": {},
   "outputs": [
    {
     "data": {
      "text/plain": [
       "\"take it easy with me, please  \\r\\ntouch me gently like a summer evening breeze  \\r\\ntake your time, make it slow  \\r\\nandante, andante  \\r\\njust let the feeling grow  \\r\\n  \\r\\nmake your fingers soft and light  \\r\\nlet your body be the velvet of the night  \\r\\ntouch my soul, you know how  \\r\\nandante, andante  \\r\\ngo slowly with me now  \\r\\n  \\r\\ni'm your music  \\r\\n(i am your music and i am your song)  \\r\\ni'm your song  \\r\\n(i am your music and i am your song)  \\r\\nplay me time and time again and make me strong  \\r\\n(play me again 'cause you're making me strong)  \\r\\nmake me sing, make me sound  \\r\\n(you make me sing and you make me)  \\r\\nandante, andante  \\r\\ntread lightly on my ground  \\r\\nandante, andante  \\r\\noh please don't let me down  \\r\\n  \\r\\nthere's a shimmer in your eyes  \\r\\nlike the feeling of a thousand butterflies  \\r\\nplease don't talk, go on, play  \\r\\nandante, andante  \\r\\nand let me float away  \\r\\n  \\r\\ni'm your music  \\r\\n(i am your music and i am your song)  \\r\\ni'm your song  \\r\\n(i am your music and i am your song)  \\r\\nplay me time and time again and make me strong  \\r\\n(play me again 'cause you're making me strong)  \\r\\nmake me sing, make me sound  \\r\\n(you make me sing and you make me)  \\r\\nandante, andante  \\r\\ntread lightly on my ground  \\r\\nandante, andante  \\r\\noh please don't let me down  \\r\\n  \\r\\nmake me sing, make me sound  \\r\\n(you make me sing and you make me)  \\r\\nandante, andante  \\r\\ntread lightly on my ground  \\r\\nandante, andante  \\r\\noh please don't let me down  \\r\\nandante, andante  \\r\\noh please don't let me down\\r\\n\\r\\n\""
      ]
     },
     "execution_count": 10,
     "metadata": {},
     "output_type": "execute_result"
    }
   ],
   "source": [
    "df['text'][1]"
   ]
  },
  {
   "cell_type": "code",
   "execution_count": 11,
   "id": "36b76ad5-ddb3-428a-a9c6-0e8f043e7a32",
   "metadata": {},
   "outputs": [],
   "source": [
    "df['text']= df['text'].replace(r'\\w\\s' , ' ').replace(r'\\n',' ',regex = True)"
   ]
  },
  {
   "cell_type": "code",
   "execution_count": 12,
   "id": "3e60c8c9-9d17-47a8-8658-fa09883d29f5",
   "metadata": {},
   "outputs": [
    {
     "data": {
      "text/plain": [
       "\"look at her face, it's a wonderful face  \\r and it means something special to me  \\r look at the way that she smiles when she sees me  \\r how lucky can one fellow be?  \\r   \\r she's just my kind of girl, she makes me feel fine  \\r who could ever believe that she could be mine?  \\r she's just my kind of girl, without her i'm blue  \\r and if she ever leaves me what could i do, what could i do?  \\r   \\r and when we go for a walk in the park  \\r and she holds me and squeezes my hand  \\r we'll go on walking for hours and talking  \\r about all the things that we plan  \\r   \\r she's just my kind of girl, she makes me feel fine  \\r who could ever believe that she could be mine?  \\r she's just my kind of girl, without her i'm blue  \\r and if she ever leaves me what could i do, what could i do?\\r \\r \""
      ]
     },
     "execution_count": 12,
     "metadata": {},
     "output_type": "execute_result"
    }
   ],
   "source": [
    "df['text'][0]"
   ]
  },
  {
   "cell_type": "code",
   "execution_count": 13,
   "id": "b6f73464-f591-4ec9-a6eb-3116c684832e",
   "metadata": {},
   "outputs": [],
   "source": [
    "import nltk\n",
    "#nltk.download('punkt')\n",
    "#nltk.download('punkt_tab') use if needed "
   ]
  },
  {
   "cell_type": "code",
   "execution_count": 14,
   "id": "8a324544-62a0-4ddd-8995-6121b2a2bbdf",
   "metadata": {},
   "outputs": [],
   "source": [
    "from nltk.stem.porter import PorterStemmer"
   ]
  },
  {
   "cell_type": "code",
   "execution_count": 15,
   "id": "925c0488-6546-4bb1-b47f-ac592082fd4d",
   "metadata": {},
   "outputs": [],
   "source": [
    "stemmer = PorterStemmer()"
   ]
  },
  {
   "cell_type": "code",
   "execution_count": 16,
   "id": "75b3d2d6-e2e4-4a78-9da8-1cb33f637275",
   "metadata": {},
   "outputs": [],
   "source": [
    "def token(txt):\n",
    "    words = nltk.word_tokenize(txt) # split text into word\n",
    "    a = [stemmer.stem(w) for w in words] # stem every word \n",
    "    return \" \".join(a) # join those back to string"
   ]
  },
  {
   "cell_type": "code",
   "execution_count": 17,
   "id": "13b37b5d-ec3b-43ef-849e-25e6c743a12b",
   "metadata": {},
   "outputs": [
    {
     "data": {
      "text/plain": [
       "'cat are run'"
      ]
     },
     "execution_count": 17,
     "metadata": {},
     "output_type": "execute_result"
    }
   ],
   "source": [
    "#just to chk\n",
    "token(\"cats are running\")"
   ]
  },
  {
   "cell_type": "code",
   "execution_count": 18,
   "id": "65a31279-17dd-4727-a1d0-e4051f6bd3b4",
   "metadata": {},
   "outputs": [],
   "source": [
    "df['text']=df['text'].apply(lambda x:token(x))"
   ]
  },
  {
   "cell_type": "code",
   "execution_count": 19,
   "id": "25b9722a-259a-46ff-9511-4a1fccbe4b5b",
   "metadata": {},
   "outputs": [
    {
     "data": {
      "text/html": [
       "<div>\n",
       "<style scoped>\n",
       "    .dataframe tbody tr th:only-of-type {\n",
       "        vertical-align: middle;\n",
       "    }\n",
       "\n",
       "    .dataframe tbody tr th {\n",
       "        vertical-align: top;\n",
       "    }\n",
       "\n",
       "    .dataframe thead th {\n",
       "        text-align: right;\n",
       "    }\n",
       "</style>\n",
       "<table border=\"1\" class=\"dataframe\">\n",
       "  <thead>\n",
       "    <tr style=\"text-align: right;\">\n",
       "      <th></th>\n",
       "      <th>artist</th>\n",
       "      <th>song</th>\n",
       "      <th>text</th>\n",
       "    </tr>\n",
       "  </thead>\n",
       "  <tbody>\n",
       "    <tr>\n",
       "      <th>0</th>\n",
       "      <td>ABBA</td>\n",
       "      <td>Ahe's My Kind Of Girl</td>\n",
       "      <td>look at her face , it 's a wonder face and it ...</td>\n",
       "    </tr>\n",
       "    <tr>\n",
       "      <th>1</th>\n",
       "      <td>ABBA</td>\n",
       "      <td>Andante, Andante</td>\n",
       "      <td>take it easi with me , pleas touch me gentli l...</td>\n",
       "    </tr>\n",
       "    <tr>\n",
       "      <th>2</th>\n",
       "      <td>ABBA</td>\n",
       "      <td>As Good As New</td>\n",
       "      <td>i 'll never know whi i had to go whi i had to ...</td>\n",
       "    </tr>\n",
       "    <tr>\n",
       "      <th>3</th>\n",
       "      <td>ABBA</td>\n",
       "      <td>Bang</td>\n",
       "      <td>make somebodi happi is a question of give and ...</td>\n",
       "    </tr>\n",
       "    <tr>\n",
       "      <th>4</th>\n",
       "      <td>ABBA</td>\n",
       "      <td>Bang-A-Boomerang</td>\n",
       "      <td>make somebodi happi is a question of give and ...</td>\n",
       "    </tr>\n",
       "    <tr>\n",
       "      <th>...</th>\n",
       "      <td>...</td>\n",
       "      <td>...</td>\n",
       "      <td>...</td>\n",
       "    </tr>\n",
       "    <tr>\n",
       "      <th>4995</th>\n",
       "      <td>Elvis Costello</td>\n",
       "      <td>Love For Tender</td>\n",
       "      <td>you wo n't take my love for tender you can put...</td>\n",
       "    </tr>\n",
       "    <tr>\n",
       "      <th>4996</th>\n",
       "      <td>Elvis Costello</td>\n",
       "      <td>Love Went Mad</td>\n",
       "      <td>i 've look at it everi way i can from under an...</td>\n",
       "    </tr>\n",
       "    <tr>\n",
       "      <th>4997</th>\n",
       "      <td>Elvis Costello</td>\n",
       "      <td>Lover's Walk</td>\n",
       "      <td>i wo n't walk with my head bow ( be on ) beyon...</td>\n",
       "    </tr>\n",
       "    <tr>\n",
       "      <th>4998</th>\n",
       "      <td>Elvis Costello</td>\n",
       "      <td>Luxembourg</td>\n",
       "      <td>dress up like a dog 's dinner butter would n't...</td>\n",
       "    </tr>\n",
       "    <tr>\n",
       "      <th>4999</th>\n",
       "      <td>Elvis Costello</td>\n",
       "      <td>Men Called Uncle</td>\n",
       "      <td>now there 's newsprint all over your face well...</td>\n",
       "    </tr>\n",
       "  </tbody>\n",
       "</table>\n",
       "<p>5000 rows × 3 columns</p>\n",
       "</div>"
      ],
      "text/plain": [
       "              artist                   song  \\\n",
       "0               ABBA  Ahe's My Kind Of Girl   \n",
       "1               ABBA       Andante, Andante   \n",
       "2               ABBA         As Good As New   \n",
       "3               ABBA                   Bang   \n",
       "4               ABBA       Bang-A-Boomerang   \n",
       "...              ...                    ...   \n",
       "4995  Elvis Costello        Love For Tender   \n",
       "4996  Elvis Costello          Love Went Mad   \n",
       "4997  Elvis Costello           Lover's Walk   \n",
       "4998  Elvis Costello             Luxembourg   \n",
       "4999  Elvis Costello       Men Called Uncle   \n",
       "\n",
       "                                                   text  \n",
       "0     look at her face , it 's a wonder face and it ...  \n",
       "1     take it easi with me , pleas touch me gentli l...  \n",
       "2     i 'll never know whi i had to go whi i had to ...  \n",
       "3     make somebodi happi is a question of give and ...  \n",
       "4     make somebodi happi is a question of give and ...  \n",
       "...                                                 ...  \n",
       "4995  you wo n't take my love for tender you can put...  \n",
       "4996  i 've look at it everi way i can from under an...  \n",
       "4997  i wo n't walk with my head bow ( be on ) beyon...  \n",
       "4998  dress up like a dog 's dinner butter would n't...  \n",
       "4999  now there 's newsprint all over your face well...  \n",
       "\n",
       "[5000 rows x 3 columns]"
      ]
     },
     "execution_count": 19,
     "metadata": {},
     "output_type": "execute_result"
    }
   ],
   "source": [
    "df"
   ]
  },
  {
   "cell_type": "code",
   "execution_count": 20,
   "id": "9c2b7dee-7861-4202-a8ba-bb51373209a1",
   "metadata": {},
   "outputs": [],
   "source": [
    "import sklearn"
   ]
  },
  {
   "cell_type": "code",
   "execution_count": 21,
   "id": "b54016c0-32fa-40bb-9ac0-d31913d1ed73",
   "metadata": {},
   "outputs": [],
   "source": [
    "from sklearn.feature_extraction.text import TfidfVectorizer\n",
    "from sklearn.metrics.pairwise import cosine_similarity"
   ]
  },
  {
   "cell_type": "code",
   "execution_count": 22,
   "id": "3ccd73a2",
   "metadata": {},
   "outputs": [],
   "source": [
    "tfid = TfidfVectorizer(analyzer='word',stop_words='english')"
   ]
  },
  {
   "cell_type": "code",
   "execution_count": 23,
   "id": "168d882f",
   "metadata": {},
   "outputs": [],
   "source": [
    "matrix=tfid.fit_transform(df['text'])"
   ]
  },
  {
   "cell_type": "code",
   "execution_count": 24,
   "id": "4ab0e61e",
   "metadata": {},
   "outputs": [],
   "source": [
    "similar = cosine_similarity(matrix)"
   ]
  },
  {
   "cell_type": "code",
   "execution_count": 25,
   "id": "78992984",
   "metadata": {},
   "outputs": [
    {
     "data": {
      "text/plain": [
       "array([1.        , 0.03574249, 0.01274505, ..., 0.06064107, 0.05738545,\n",
       "       0.13443438])"
      ]
     },
     "execution_count": 25,
     "metadata": {},
     "output_type": "execute_result"
    }
   ],
   "source": [
    "similar[0]"
   ]
  },
  {
   "cell_type": "code",
   "execution_count": 37,
   "id": "312e3ac5",
   "metadata": {},
   "outputs": [
    {
     "data": {
      "text/plain": [
       "np.int64(1918)"
      ]
     },
     "execution_count": 37,
     "metadata": {},
     "output_type": "execute_result"
    }
   ],
   "source": [
    "df[df['song']=='Be Kind To Me'].index[0]"
   ]
  },
  {
   "cell_type": "code",
   "execution_count": 35,
   "id": "9837c1e1",
   "metadata": {},
   "outputs": [],
   "source": [
    "def recommender(song_name):\n",
    "    index = df[df['song']==song_name].index[0]\n",
    "    distance = sorted(list(enumerate(similar[index])), reverse=True,key = lambda x:x[1])\n",
    "    song=[]\n",
    "    for s_id in distance[1:5]:\n",
    "        song.append(df.iloc[s_id[0]].song)\n",
    "    return song\n"
   ]
  },
  {
   "cell_type": "code",
   "execution_count": 36,
   "id": "3d278cc3",
   "metadata": {},
   "outputs": [
    {
     "data": {
      "text/plain": [
       "['Be Kind To Me',\n",
       " 'I Am Just A Girl',\n",
       " \"That's Me\",\n",
       " 'If I Could Just See You Now']"
      ]
     },
     "execution_count": 36,
     "metadata": {},
     "output_type": "execute_result"
    }
   ],
   "source": [
    "recommender(\"Ahe's My Kind Of Girl\")"
   ]
  },
  {
   "cell_type": "code",
   "execution_count": 39,
   "id": "30ae841a",
   "metadata": {},
   "outputs": [
    {
     "data": {
      "text/plain": [
       "['Married Men', \"Ahe's My Kind Of Girl\", 'Kimono Girl', 'I Am Just A Girl']"
      ]
     },
     "execution_count": 39,
     "metadata": {},
     "output_type": "execute_result"
    }
   ],
   "source": [
    "recommender(\"That's Me\")"
   ]
  },
  {
   "cell_type": "code",
   "execution_count": null,
   "id": "928a14b4",
   "metadata": {},
   "outputs": [],
   "source": []
  }
 ],
 "metadata": {
  "kernelspec": {
   "display_name": "Python 3",
   "language": "python",
   "name": "python3"
  },
  "language_info": {
   "codemirror_mode": {
    "name": "ipython",
    "version": 3
   },
   "file_extension": ".py",
   "mimetype": "text/x-python",
   "name": "python",
   "nbconvert_exporter": "python",
   "pygments_lexer": "ipython3",
   "version": "3.13.2"
  }
 },
 "nbformat": 4,
 "nbformat_minor": 5
}
